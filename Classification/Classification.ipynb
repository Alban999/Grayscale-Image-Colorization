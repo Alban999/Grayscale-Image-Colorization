{
 "cells": [
  {
   "cell_type": "markdown",
   "metadata": {
    "id": "RQ3VbceHv9b9"
   },
   "source": [
    "#Imports"
   ]
  },
  {
   "cell_type": "code",
   "execution_count": 32,
   "metadata": {
    "id": "ZMM3YwW6v3oX"
   },
   "outputs": [],
   "source": [
    "import numpy as np\n",
    "import pandas as pd\n",
    "import math as m\n",
    "import matplotlib.pyplot as plt\n",
    "%matplotlib inline\n",
    "import time\n",
    "import random\n",
    " \n",
    "import torch\n",
    "import torch.nn as nn\n",
    "import torch.nn.functional as F\n",
    "import torch.optim as optim\n",
    "import torchvision\n",
    "import torchvision.models as models\n",
    "from torchvision import datasets, transforms\n",
    "from torchvision.datasets import CIFAR10\n",
    " \n",
    "import sklearn\n",
    "from skimage.color import lab2rgb, rgb2lab, rgb2gray\n",
    "from skimage import color\n",
    "from skimage import io\n",
    "from skimage.io import imread\n",
    "import os\n",
    "import scipy\n",
    "import scipy.stats as st\n",
    "from scipy.ndimage import zoom"
   ]
  },
  {
   "cell_type": "markdown",
   "metadata": {
    "id": "rxkKgX4UwGOL"
   },
   "source": [
    "# GPU Check "
   ]
  },
  {
   "cell_type": "code",
   "execution_count": 33,
   "metadata": {
    "colab": {
     "base_uri": "https://localhost:8080/"
    },
    "id": "UxzDUj-qwNIa",
    "outputId": "2c3c6556-1890-4374-fb39-5ddd8f60a436"
   },
   "outputs": [
    {
     "data": {
      "text/plain": [
       "True"
      ]
     },
     "execution_count": 33,
     "metadata": {},
     "output_type": "execute_result"
    }
   ],
   "source": [
    "# Check that the gpu is available\n",
    "\n",
    "use_gpu = torch.cuda.is_available() \n",
    "use_gpu   "
   ]
  },
  {
   "cell_type": "markdown",
   "metadata": {
    "id": "-a5i2i3DwQVL"
   },
   "source": [
    "# Input Parameters"
   ]
  },
  {
   "cell_type": "code",
   "execution_count": 36,
   "metadata": {
    "id": "qrCNS18PwTlF"
   },
   "outputs": [],
   "source": [
    "# Size of the images (in pixel) (does not have to match their original size but must be a multiple of 8)\n",
    "size = 56      \n",
    "\n",
    "\n",
    "# Size of the datasets (in number of images)\n",
    "# Note :\n",
    "#         Berkeley Datasets :    200/200/100\n",
    "#         Form Datasets    :    200/200/100\n",
    "training_size = 200 \n",
    "test_size = 200      \n",
    "val_size = 100  \n",
    "\n",
    "\n",
    "# Number of epochs and size of each batch \n",
    "num_epochs = 20\n",
    "batch_size = 10\n",
    "\n",
    "\n",
    "# Smoothing of the probabilities \n",
    "# Note :\n",
    "#         Lambda is the proportion of the uniform distribution \n",
    "#         Sigma is the standard deviation of the Gaussian Kernel\n",
    "lbda = 0.5\n",
    "sigma = 5\n",
    "\n",
    "\n",
    "# Use classification with rebalancing (weighted = True) or not (weighted = False)\n",
    "weighted = True  \n",
    "\n",
    "\n",
    "# Learning rate of the optimizer\n",
    "learning_rate = 1e-3\n",
    "\n",
    "# Path to Datasets\n",
    "TRAIN_DATA_PATH = \"./form_Datasets/training\"\n",
    "TEST_DATA_PATH = \"./form_Datasets/testing\"\n",
    "VAL_DATA_PATH = \"./form_Datasets/validation\"\n",
    "\n",
    "\n",
    "# Path to file containing the discrete (a, b) pairs\n",
    "DISCRETE_AB_PATH = \"./pts_in_hull.npy\"\n",
    "\n",
    "# Use a probability distribution from some txt file (use_save_proba = True)\n",
    "# or compute the probability distribution of the current training set (use_save_proba = False)\n",
    "# Note :\n",
    "#         SAVE_PROBA_PATH is the path to the txt file containing the probability distribution if\n",
    "#         use_save_proba = True. Otherwise, it is the path to the txt file on which will be saved\n",
    "#         the computed probability distribution of the current training set\n",
    "use_save_proba = True\n",
    "SAVE_PROBA_PATH = \"./proba_distrib_Form56.txt\"\n",
    "\n",
    "\n",
    "# Path to the file where the model will be saved after training\n",
    "SAVE_MODEL_PATH = './color_net.pth' "
   ]
  },
  {
   "cell_type": "markdown",
   "metadata": {
    "id": "t284nshZxksv"
   },
   "source": [
    "# Load Datasets"
   ]
  },
  {
   "cell_type": "markdown",
   "metadata": {
    "id": "NkOFpOJixpx1"
   },
   "source": [
    "## Encoding and decoding functions"
   ]
  },
  {
   "cell_type": "code",
   "execution_count": 37,
   "metadata": {
    "id": "vufeSEtXxtVF"
   },
   "outputs": [],
   "source": [
    "def closest_node(node, nodes):\n",
    "  '''\n",
    "  This function gives the closest node to the input \"node\" between all nodes in the input \"nodes\"\n",
    "  '''\n",
    "  nodes = np.asarray(nodes)\n",
    "  dist_2 = np.sum((nodes - node)**2, axis=1)\n",
    "  x = np.argmin(dist_2)\n",
    "  return nodes[x], x; \n",
    "\n",
    "\n",
    "def encoding(image,file_path):\n",
    "  '''\n",
    "  input :\n",
    "    image : torch tensor containing the image lab (3 x size x size)\n",
    "    file_path : path to the file containing the discrete pairs of (a,b) considered\n",
    "\n",
    "  output :\n",
    "    torch tensor containing the coded image in (a,b) space (313 x size x size)\n",
    "  '''\n",
    "  pts_in_hull = np.load(file_path)\n",
    "  image_ab = image[1:3,:,:]\n",
    "  img = image_ab.numpy()\n",
    "  img_neir = np.zeros((img.shape[0], img.shape[1], img.shape[2]))\n",
    "  img_313 = np.zeros(( 313, img.shape[1],img.shape[2]))\n",
    "\n",
    "  for i in range(img.shape[1]): \n",
    "    for j in range(img.shape[2]): \n",
    "        img_neir[:,i,j], idx = closest_node(img[:,i,j],pts_in_hull)\n",
    "        img_313[idx,i,j] = 1\n",
    "\n",
    "  img_enc = torch.from_numpy(img_313)\n",
    "  return img_enc;\n",
    "\n",
    "\n",
    "def decoding(image_ab_in,file_path):\n",
    "  '''\n",
    "  input :\n",
    "    image : torch tensor containing the coded image in (a,b) space (313 x size x size)\n",
    "    file_path : path to the file containing the discrete pairs of (a,b) considered\n",
    "\n",
    "  output :\n",
    "    torch tensor containing the image ab (2 x size x size)\n",
    "  '''\n",
    "  pts_in_hull = np.load(file_path)\n",
    "  img = image_ab_in.numpy()\n",
    "  img_ab_out =  np.zeros((img.shape[0], 2, img.shape[2],img.shape[3]))\n",
    "\n",
    "  for l in range(img.shape[0]):\n",
    "    for i in range(img.shape[2]):\n",
    "      for j in range(img.shape[3]):\n",
    "        idx = np.argmax(img[l,:,i,j])\n",
    "        img_ab_out[l,:,i,j] = pts_in_hull[idx]  \n",
    "\n",
    "  img_ab_out = torch.from_numpy(img_ab_out)\n",
    "  return img_ab_out;"
   ]
  },
  {
   "cell_type": "markdown",
   "metadata": {
    "id": "5c9nXvDb6ihb"
   },
   "source": [
    "## Datasets loading"
   ]
  },
  {
   "cell_type": "code",
   "execution_count": 38,
   "metadata": {
    "id": "b6GqYG6LzUtf"
   },
   "outputs": [],
   "source": [
    "class GrayscaleImageFolder(datasets.ImageFolder):\n",
    "  '''\n",
    "  Custom images folder, which converts images to grayscale before loading\n",
    "  '''\n",
    "  def __getitem__(self, index):\n",
    "    path, target = self.imgs[index]\n",
    "    img = self.loader(path)\n",
    "    if self.transform is not None:\n",
    "        img_original = self.transform(img)\n",
    "        file_path = DISCRETE_AB_PATH\n",
    "        img_original = torch.FloatTensor(np.transpose(color.rgb2lab(np.array(img_original)), (2, 0, 1)))\n",
    "        img_gray = img_original[0:1,:,:]\n",
    "        img_ab_encoded = encoding(img_original, file_path)\n",
    "      \n",
    "    if self.target_transform is not None:\n",
    "      target = self.target_transform(target)\n",
    "    return img_gray, img_ab_encoded"
   ]
  },
  {
   "cell_type": "code",
   "execution_count": 39,
   "metadata": {
    "colab": {
     "base_uri": "https://localhost:8080/"
    },
    "id": "gUkQ5kpIzcch",
    "outputId": "7a3ea82e-5a89-4fcf-b8b7-68c09bc2b2ff"
   },
   "outputs": [
    {
     "name": "stdout",
     "output_type": "stream",
     "text": [
      "Dataset GrayscaleImageFolder\n",
      "    Number of datapoints: 200\n",
      "    Root location: ./form_Datasets/training\n",
      "    StandardTransform\n",
      "Transform: Compose(\n",
      "               Resize(size=56, interpolation=bilinear)\n",
      "               CenterCrop(size=(56, 56))\n",
      "           )\n",
      "Dataset GrayscaleImageFolder\n",
      "    Number of datapoints: 200\n",
      "    Root location: ./form_Datasets/testing\n",
      "    StandardTransform\n",
      "Transform: Compose(\n",
      "               Resize(size=56, interpolation=bilinear)\n",
      "               CenterCrop(size=(56, 56))\n",
      "           )\n",
      "Dataset GrayscaleImageFolder\n",
      "    Number of datapoints: 100\n",
      "    Root location: ./form_Datasets/validation\n",
      "    StandardTransform\n",
      "Transform: Compose(\n",
      "               Resize(size=56, interpolation=bilinear)\n",
      "               CenterCrop(size=(56, 56))\n",
      "           )\n"
     ]
    }
   ],
   "source": [
    "# Creation of the datasets\n",
    "\n",
    "\n",
    "img_transform = transforms.Compose([\n",
    "    transforms.Resize(size), transforms.CenterCrop(size)]\n",
    ")\n",
    "\n",
    "\n",
    "train_dataset = GrayscaleImageFolder(TRAIN_DATA_PATH, img_transform)\n",
    "train_loader = torch.utils.data.DataLoader(train_dataset, batch_size=batch_size, shuffle=True)\n",
    "\n",
    "test_dataset = GrayscaleImageFolder(TEST_DATA_PATH, img_transform)\n",
    "test_loader = torch.utils.data.DataLoader(test_dataset, batch_size=batch_size, shuffle=True)\n",
    "\n",
    "val_dataset = GrayscaleImageFolder(VAL_DATA_PATH, img_transform)\n",
    "val_loader = torch.utils.data.DataLoader(val_dataset, batch_size=batch_size, shuffle=True)\n",
    "\n",
    "print(train_dataset)\n",
    "print(test_dataset)\n",
    "print(val_dataset)"
   ]
  },
  {
   "cell_type": "markdown",
   "metadata": {
    "id": "9tmf1o7Rz5RW"
   },
   "source": [
    "# Weights Distribution"
   ]
  },
  {
   "cell_type": "markdown",
   "metadata": {
    "id": "Aif6YLhq0w4t"
   },
   "source": [
    "## Probability distribution"
   ]
  },
  {
   "cell_type": "code",
   "execution_count": 40,
   "metadata": {
    "id": "AyLofodB01QJ"
   },
   "outputs": [],
   "source": [
    "def compute_proba_distrib(train_loader, file_path):\n",
    "    '''\n",
    "    input :\n",
    "        train_loader : torch tensor batch_size x 313 x size x size containing the discrete ab pairs of the image's pixels\n",
    "        file_path : path to the file containing the discrete ab pairs\n",
    "    output : \n",
    "        a numpy array of size 313 containing the global probablity distribution of the ab pairs across the training set\n",
    "    '''\n",
    "    device = torch.device('cuda' if torch.cuda.is_available() else 'cpu')\n",
    "    print(device)\n",
    "    \n",
    "    pts_in_hull = np.load(file_path)\n",
    "    proba_distrib = np.zeros(313)\n",
    "    \n",
    "    for i, (img_gray, img_ab) in enumerate(train_loader):\n",
    "        img_ab = img_ab.float().to(device)\n",
    "        \n",
    "        max_encoded=torch.argmax(img_ab.cpu(),dim=1)\n",
    "        encoded = torch.Tensor(max_encoded.float()).long().to(device)\n",
    "        \n",
    "        # encoded shape : batchsize x size x size \n",
    "        print(\"batch {}\".format(i))\n",
    "        for l in range(encoded.shape[0]):\n",
    "            for i in range(encoded.shape[1]):\n",
    "                for j in range(encoded.shape[2]):\n",
    "                    proba_distrib[encoded[l,i,j]] += 1\n",
    "                           \n",
    "    for p in range(313):\n",
    "        proba_distrib[p] = proba_distrib[p]/(training_size*size*size)\n",
    "    \n",
    "    return proba_distrib\n",
    "\n",
    "def array2txt(array, path):\n",
    "  '''\n",
    "  input :\n",
    "    array : the array containing the elements to write into a file\n",
    "    path : path to the txt file \n",
    "\n",
    "  output :\n",
    "    a txt file on which all elements of the array appears line by line\n",
    "  '''    \n",
    "  f = open(path, \"w\")  \n",
    "  for elem in array:\n",
    "    f.write(str(elem)+'\\n')\n",
    "  f.close() \n",
    "\n",
    "\n",
    "def read_proba_distrib(filepath):\n",
    "  '''\n",
    "  This function reads a txt file and copy its lines in a numpy array \n",
    "  '''\n",
    "  f = open(filepath,'r')\n",
    "    \n",
    "  proba = np.zeros(313)\n",
    "  count = 0\n",
    "  for p in f:\n",
    "      p_format = p.strip()\n",
    "      proba[count] = float(p_format)\n",
    "      count += 1\n",
    "  \n",
    "  f.close()\n",
    "  return proba\n"
   ]
  },
  {
   "cell_type": "code",
   "execution_count": 41,
   "metadata": {
    "colab": {
     "base_uri": "https://localhost:8080/",
     "height": 313
    },
    "id": "isdutPuo4Nsk",
    "outputId": "f4f382f8-f877-4dbb-88f3-29d3b33dd7d4"
   },
   "outputs": [
    {
     "name": "stdout",
     "output_type": "stream",
     "text": [
      "cuda\n",
      "batch 0\n",
      "batch 1\n",
      "batch 2\n",
      "batch 3\n",
      "batch 4\n",
      "batch 5\n",
      "batch 6\n",
      "batch 7\n",
      "batch 8\n",
      "batch 9\n",
      "batch 10\n",
      "batch 11\n",
      "batch 12\n",
      "batch 13\n",
      "batch 14\n",
      "batch 15\n",
      "batch 16\n",
      "batch 17\n",
      "batch 18\n",
      "batch 19\n",
      " Sum of all probabilities : 1.0000\n"
     ]
    },
    {
     "data": {
      "image/png": "[encoded data removed]",
      "text/plain": [
       "<Figure size 432x288 with 1 Axes>"
      ]
     },
     "metadata": {
      "needs_background": "light"
     },
     "output_type": "display_data"
    }
   ],
   "source": [
    "# Compute probability distribution\n",
    "\n",
    "if use_save_proba == False:\n",
    "  proba_distrib = compute_proba_distrib(train_loader, DISCRETE_AB_PATH)\n",
    "  array2txt(proba_distrib, SAVE_PROBA_PATH)\n",
    "\n",
    "if use_save_proba == True:\n",
    "  proba_distrib = read_proba_distrib(SAVE_PROBA_PATH)\n",
    "\n",
    "\n",
    "# Verify that the vector is normalized\n",
    "summ = 0\n",
    "for elem in proba_distrib:\n",
    "    summ += elem\n",
    "print(\" Sum of all probabilities : {:.4f}\".format(summ)) \n",
    "\n",
    "\n",
    "# Show a plot of the probability distribution\n",
    "x = np.arange(313)\n",
    "plt.bar(x, proba_distrib, color='g',width=1)   \n",
    "plt.title('Probability Distribution')\n",
    "plt.xlabel('(a, b) pair')\n",
    "plt.show() "
   ]
  },
  {
   "cell_type": "markdown",
   "metadata": {
    "id": "d5qmxHl-5Vqg"
   },
   "source": [
    "## Smoothing "
   ]
  },
  {
   "cell_type": "code",
   "execution_count": 14,
   "metadata": {
    "id": "cMlyO0X55XxG"
   },
   "outputs": [],
   "source": [
    "def gauss_smooth(data, x, sigma):\n",
    "    '''\n",
    "    input:\n",
    "        Data : numpy array containing the data to be smoothed by the Gaussian Kernel\n",
    "        x : x values corresponding to the data\n",
    "        sigma : standard deviation of the Gaussian\n",
    "    output:\n",
    "        a numpy array containing the smoothed data\n",
    "    '''\n",
    "    \n",
    "    smoothed_data = np.zeros(len(data))\n",
    "    \n",
    "    for x_pos in x:\n",
    "        kernel = np.exp(-(x - x_pos) ** 2 / (2 * sigma ** 2))\n",
    "        kernel = kernel/sum(kernel)\n",
    "        smoothed_data[x_pos] = sum(data * kernel)\n",
    "        \n",
    "    return smoothed_data"
   ]
  },
  {
   "cell_type": "code",
   "execution_count": 15,
   "metadata": {
    "colab": {
     "base_uri": "https://localhost:8080/",
     "height": 295
    },
    "id": "ucbv7je15cIi",
    "outputId": "d065c70f-f756-4e6f-b33f-014c1a7385c2"
   },
   "outputs": [
    {
     "data": {
      "image/png": "[encoded data removed]",
      "text/plain": [
       "<Figure size 432x288 with 1 Axes>"
      ]
     },
     "metadata": {
      "needs_background": "light"
     },
     "output_type": "display_data"
    }
   ],
   "source": [
    "# Compute smoothed probabilities andplot them\n",
    "\n",
    "smoothed_proba = gauss_smooth(proba_distrib, x, sigma)\n",
    "\n",
    "plt.bar(x, smoothed_proba, color='g',width=1) \n",
    "plt.title('Smoothed Probability Distribution')\n",
    "plt.xlabel('(a, b) pair')\n",
    "plt.show()"
   ]
  },
  {
   "cell_type": "markdown",
   "metadata": {
    "id": "T57AQoMC55fC"
   },
   "source": [
    "## Weights computation"
   ]
  },
  {
   "cell_type": "code",
   "execution_count": 16,
   "metadata": {
    "id": "vAyvZGL258U0"
   },
   "outputs": [],
   "source": [
    "def compute_weights(proba_distrib, lbda):\n",
    "    '''\n",
    "    input :\n",
    "        proba_distrib : numpy array of size 313 containing the probability distribution of the ab pairs \n",
    "        lbda : scalar between 0 and 1, uniform distribution mixing parameter\n",
    "    output :\n",
    "        a numpy array of size 313 containing the weights \n",
    "    '''\n",
    "    \n",
    "    weights = np.zeros(313)\n",
    "    summ = 0\n",
    "    \n",
    "    for k in range(313):\n",
    "        weights[k] = ((1 - lbda)*proba_distrib[k] + lbda*(1/313))**(-1)\n",
    "        summ += weights[k]*proba_distrib[k]\n",
    "    \n",
    "    for l in range(313):\n",
    "        weights[l]= weights[l]/summ    # normalize the weights expectation\n",
    "    \n",
    "    return weights"
   ]
  },
  {
   "cell_type": "code",
   "execution_count": 17,
   "metadata": {
    "colab": {
     "base_uri": "https://localhost:8080/",
     "height": 313
    },
    "id": "AjHVL8-b5_7M",
    "outputId": "4ec94588-d1f4-43cb-f527-6a136464ac1f"
   },
   "outputs": [
    {
     "name": "stdout",
     "output_type": "stream",
     "text": [
      "Expectation of the weight : 1.0000\n"
     ]
    },
    {
     "data": {
      "image/png": "[encoded data removed]",
      "text/plain": [
       "<Figure size 432x288 with 1 Axes>"
      ]
     },
     "metadata": {
      "needs_background": "light"
     },
     "output_type": "display_data"
    }
   ],
   "source": [
    "# Compute the weights\n",
    "weights = compute_weights(smoothed_proba, lbda)\n",
    "\n",
    "# Verify that the expectation of the weights is 1\n",
    "summ = 0\n",
    "for k in range(313):\n",
    "  summ += smoothed_proba[k]*weights[k]\n",
    "\n",
    "print(\"Expectation of the weight : {:.4f}\".format(summ))\n",
    "\n",
    "# Plot the weights\n",
    "plt.bar(x, weights, color='g', width=1)\n",
    "plt.title('Weight')\n",
    "plt.xlabel('(a, b) pair')\n",
    "plt.show() "
   ]
  },
  {
   "cell_type": "markdown",
   "metadata": {
    "id": "-EoYssr-6qCE"
   },
   "source": [
    "# Model CNN"
   ]
  },
  {
   "cell_type": "code",
   "execution_count": 18,
   "metadata": {
    "id": "S7H8ywiW7-G_"
   },
   "outputs": [],
   "source": [
    "class Color_model(nn.Module):\n",
    "    def __init__(self):\n",
    "        super(Color_model, self).__init__()\n",
    "        self.features = nn.Sequential(\n",
    "            # conv1\n",
    "            nn.Conv2d(in_channels = 1, out_channels = 64, kernel_size = 3, stride = 1, padding = 1),\n",
    "            nn.ReLU(),\n",
    "            nn.Conv2d(in_channels = 64, out_channels = 64, kernel_size = 3, stride = 2, padding = 1),\n",
    "            nn.ReLU(),\n",
    "            nn.BatchNorm2d(num_features = 64),\n",
    "            # conv2\n",
    "            nn.Conv2d(in_channels = 64, out_channels = 128, kernel_size = 3, stride = 1, padding = 1),\n",
    "            nn.ReLU(),\n",
    "            nn.Conv2d(in_channels = 128, out_channels = 128, kernel_size = 3, stride = 2, padding = 1),\n",
    "            nn.ReLU(),\n",
    "            nn.BatchNorm2d(num_features = 128),\n",
    "            # conv3\n",
    "            nn.Conv2d(in_channels = 128, out_channels = 256, kernel_size = 3, stride = 1, padding = 1),\n",
    "            nn.ReLU(),\n",
    "            nn.Conv2d(in_channels = 256, out_channels = 256, kernel_size = 3, stride = 1, padding = 1),\n",
    "            nn.ReLU(),\n",
    "            nn.Conv2d(in_channels = 256, out_channels = 256, kernel_size = 3, stride = 2, padding = 1),\n",
    "            nn.ReLU(),\n",
    "            nn.BatchNorm2d(num_features = 256),\n",
    "            # conv4\n",
    "            nn.Conv2d(in_channels = 256, out_channels = 512, kernel_size = 3, stride = 1, padding = 1),\n",
    "            nn.ReLU(),\n",
    "            nn.BatchNorm2d(num_features = 512),\n",
    "            # conv5\n",
    "            nn.Conv2d(in_channels = 512, out_channels = 512, kernel_size = 3, stride = 1, padding = 2, dilation = 2),\n",
    "            nn.ReLU(),\n",
    "            nn.BatchNorm2d(num_features = 512),\n",
    "            # conv6\n",
    "            nn.ReLU(),\n",
    "            nn.Conv2d(in_channels = 512, out_channels = 512, kernel_size = 3, stride = 1, padding = 2, dilation = 2),\n",
    "            nn.ReLU(),\n",
    "            nn.BatchNorm2d(num_features = 512),\n",
    "            # conv7\n",
    "            nn.Conv2d(in_channels = 512, out_channels = 512, kernel_size = 3, stride = 1, padding = 1, dilation = 1),\n",
    "            nn.ReLU(),\n",
    "            nn.BatchNorm2d(num_features = 512),\n",
    "            # conv8\n",
    "            nn.ConvTranspose2d(in_channels = 512, out_channels = 256, kernel_size = 4, stride = 2, padding = 1, dilation = 1),\n",
    "            nn.ReLU(),\n",
    "            nn.Upsample(scale_factor=2, mode='bilinear',align_corners=True),\n",
    "            nn.ConvTranspose2d(in_channels = 256, out_channels = 256, kernel_size = 4, stride = 2, padding= 1, dilation = 1),\n",
    "            nn.ReLU(),\n",
    "            nn.Conv2d(in_channels = 256, out_channels = 256, kernel_size = 3, stride = 1, padding = 1, dilation = 1),\n",
    "            nn.ReLU(),\n",
    "            # conv8_313\n",
    "            nn.Conv2d(in_channels = 256, out_channels = 313, kernel_size = 1, stride = 1,dilation = 1)\n",
    "        )\n",
    "\n",
    "    def forward(self, gray_image):\n",
    "        features=self.features(gray_image)\n",
    "        \n",
    "        return features"
   ]
  },
  {
   "cell_type": "code",
   "execution_count": 19,
   "metadata": {
    "colab": {
     "base_uri": "https://localhost:8080/",
     "height": 243
    },
    "id": "zcgofvOY8WNb",
    "outputId": "9aa23657-daf2-4986-9603-69c32b525583"
   },
   "outputs": [
    {
     "name": "stdout",
     "output_type": "stream",
     "text": [
      "Number of trainable parameters: 13815673\n"
     ]
    }
   ],
   "source": [
    "cnet = Color_model()\n",
    "\n",
    "device = torch.device(\"cuda:0\" if use_gpu and torch.cuda.is_available() else \"cpu\")\n",
    "cnet = cnet.to(device)\n",
    "\n",
    "num_params = sum(p.numel() for p in cnet.parameters() if p.requires_grad)\n",
    "print('Number of trainable parameters: %d' % (num_params))"
   ]
  },
  {
   "cell_type": "markdown",
   "metadata": {
    "id": "iHT7ujj-84IC"
   },
   "source": [
    "# Training "
   ]
  },
  {
   "cell_type": "markdown",
   "metadata": {
    "id": "sdMXyG-09301"
   },
   "source": [
    "## Training loop"
   ]
  },
  {
   "cell_type": "code",
   "execution_count": 20,
   "metadata": {
    "id": "yAAwI2Dq86CM"
   },
   "outputs": [],
   "source": [
    "def compute_run_acc(logits, labels):\n",
    "    _, pred = torch.max(logits.data, 1)\n",
    "    return (pred == labels).sum().item()"
   ]
  },
  {
   "cell_type": "code",
   "execution_count": 21,
   "metadata": {
    "colab": {
     "base_uri": "https://localhost:8080/"
    },
    "id": "hq004xe1861O",
    "outputId": "c897836c-11fa-4145-d10a-a531c970daa3"
   },
   "outputs": [
    {
     "name": "stdout",
     "output_type": "stream",
     "text": [
      "cuda\n",
      "Convolutional model loaded\n",
      "Epoch 0:\n",
      ">> TRAIN: Epoch 0 completed | tr_loss: 2.3943 | tr_acc: 76.95%\n",
      ">> VALIDATION: Epoch 0 | val_acc: 95.23%\n",
      "Epoch 1:\n",
      ">> TRAIN: Epoch 1 completed | tr_loss: 0.8170 | tr_acc: 94.29%\n",
      ">> VALIDATION: Epoch 1 | val_acc: 83.13%\n",
      "Epoch 2:\n",
      ">> TRAIN: Epoch 2 completed | tr_loss: 0.4863 | tr_acc: 90.66%\n",
      ">> VALIDATION: Epoch 2 | val_acc: 85.83%\n",
      "Epoch 3:\n",
      ">> TRAIN: Epoch 3 completed | tr_loss: 0.3400 | tr_acc: 89.61%\n",
      ">> VALIDATION: Epoch 3 | val_acc: 93.36%\n",
      "Epoch 4:\n",
      ">> TRAIN: Epoch 4 completed | tr_loss: 0.2652 | tr_acc: 91.28%\n",
      ">> VALIDATION: Epoch 4 | val_acc: 89.91%\n",
      ">> SAVE: Epoch 4 | Model saved\n",
      "Finished Training in 145.34 seconds\n"
     ]
    }
   ],
   "source": [
    "# Build the models\n",
    "device = torch.device('cuda' if torch.cuda.is_available() else 'cpu')\n",
    "print(device)\n",
    "\n",
    "model=Color_model().to(device)\n",
    "print(\"Convolutional model loaded\")\n",
    "\n",
    "# with weights or not\n",
    "if weighted == True:\n",
    "    weights_tensor = torch.from_numpy(weights).float()\n",
    "    criterion = nn.CrossEntropyLoss(weight=weights_tensor, reduction='none').to(device)\n",
    "if weighted == False:\n",
    "    criterion = nn.CrossEntropyLoss()\n",
    "\n",
    "params = list(model.parameters())\n",
    "optimizer = torch.optim.Adam(params, lr = learning_rate)\n",
    "\n",
    "tr_accuracies_conv = np.zeros(num_epochs)\n",
    "val_accuracies_conv = np.zeros(num_epochs)\n",
    "best_val_acc = 0\n",
    "    \n",
    "file_path = DISCRETE_AB_PATH\n",
    "\n",
    "start_time = time.time()\n",
    "\n",
    "total_step = len(train_loader)\n",
    "batch_nbr = 0\n",
    "\n",
    "for epoch_nr in range(num_epochs):\n",
    "    \n",
    "    \n",
    "    print(\"Epoch {}:\".format(epoch_nr))\n",
    "\n",
    "    # Train model\n",
    "    running_loss = 0.0\n",
    "    running_acc = 0.0\n",
    "    for i, (img_gray, img_ab) in enumerate(train_loader):\n",
    "        \n",
    "        \n",
    "        # Set mini-batch dataset and put data on device\n",
    "        img_gray = img_gray.float().to(device)\n",
    "        img_ab = img_ab.float().to(device)\n",
    "        max_encoded=torch.argmax(img_ab.cpu(),dim=1)\n",
    "        encoded=torch.Tensor(max_encoded.float()).long().to(device)\n",
    "        \n",
    "        # Predict and get losses\n",
    "        outputs = model(img_gray)\n",
    "        loss = criterion(outputs,encoded).mean()\n",
    "        \n",
    "        # Update Model\n",
    "        optimizer.zero_grad()\n",
    "        loss.backward()\n",
    "        optimizer.step()\n",
    "        \n",
    "        # Losses \n",
    "        batch_nbr += 1\n",
    "        running_loss += loss.item()\n",
    "        running_acc += compute_run_acc(outputs, encoded)\n",
    "        \n",
    "    # Print Results\n",
    "    tr_acc = 100 * running_acc/(len(train_loader.dataset)*size*size)\n",
    "    print('>> TRAIN: Epoch {} completed | tr_loss: {:.4f} | tr_acc: {:.2f}%'.format(\n",
    "        epoch_nr, running_loss/batch_nbr, tr_acc))\n",
    "        \n",
    "         \n",
    "    # Get validation results\n",
    "    running_acc = 0\n",
    "    with torch.no_grad():\n",
    "        for i, (img_gray, img_ab) in enumerate(val_loader):\n",
    "            # Set mini-batch dataset and put data on device\n",
    "            img_gray = img_gray.float().to(device)\n",
    "            img_ab = img_ab.float().to(device)\n",
    "            max_encoded=torch.argmax(img_ab.cpu(),dim=1)\n",
    "            encoded=torch.Tensor(max_encoded.float()).long().to(device)\n",
    "            \n",
    "            # Predict \n",
    "            outputs = model(img_gray)\n",
    "            \n",
    "            # Compute accuracy\n",
    "            running_acc += compute_run_acc(outputs, encoded)\n",
    "            \n",
    "    val_acc = 100 * running_acc/(len(val_loader.dataset)*size*size)\n",
    "    print('>> VALIDATION: Epoch {} | val_acc: {:.2f}%'.format(epoch_nr, val_acc))\n",
    "    \n",
    "    # Store accuracies\n",
    "    tr_accuracies_conv[epoch_nr] = tr_acc\n",
    "    val_accuracies_conv[epoch_nr] = val_acc\n",
    "    \n",
    "    # Save model at best accuracy on validation dataset until now\n",
    "    if val_acc > best_val_acc:\n",
    "        best_val_acc = val_acc\n",
    "    \n",
    "\n",
    "torch.save(model.state_dict(), SAVE_MODEL_PATH)\n",
    "print('>> SAVE: Epoch {} | Model saved'.format(epoch_nr))\n",
    "    \n",
    "end_time = time.time()    \n",
    "print('Finished Training in {:.2f} seconds'.format(end_time-start_time))"
   ]
  },
  {
   "cell_type": "markdown",
   "metadata": {
    "id": "eedY_vFD9664"
   },
   "source": [
    "## Accuracies"
   ]
  },
  {
   "cell_type": "code",
   "execution_count": 23,
   "metadata": {
    "colab": {
     "base_uri": "https://localhost:8080/",
     "height": 490
    },
    "id": "ZJoKHSAS90Fv",
    "outputId": "6cc6e993-c917-42bc-8bb7-1520dc97077a"
   },
   "outputs": [
    {
     "data": {
      "image/png": "[encoded data removed]",
      "text/plain": [
       "<Figure size 1440x576 with 2 Axes>"
      ]
     },
     "metadata": {
      "needs_background": "light"
     },
     "output_type": "display_data"
    }
   ],
   "source": [
    "# Show accuracies\n",
    "\n",
    "plt.figure(figsize=(20, 8))\n",
    "\n",
    "plt.subplot(1, 2, 1) \n",
    "plt.plot(tr_accuracies_conv, label='Conv network')\n",
    "plt.title('Training results')\n",
    "plt.ylabel('Accuracy')\n",
    "plt.xlabel('Epochs')\n",
    "plt.legend()\n",
    "\n",
    "plt.subplot(1, 2, 2)\n",
    "plt.plot(val_accuracies_conv, label='Conv network')\n",
    "plt.title('Validation results')\n",
    "plt.ylabel('Accuracy')\n",
    "plt.xlabel('Epochs')\n",
    "plt.legend()\n",
    "\n",
    "plt.show()"
   ]
  },
  {
   "cell_type": "markdown",
   "metadata": {
    "id": "WeKeDnJB-Cju"
   },
   "source": [
    "# Testing"
   ]
  },
  {
   "cell_type": "code",
   "execution_count": 30,
   "metadata": {
    "colab": {
     "base_uri": "https://localhost:8080/"
    },
    "id": "zczsEFR0mdCe",
    "outputId": "2accb62a-b21b-438b-fda1-739d7a1ce741"
   },
   "outputs": [
    {
     "name": "stdout",
     "output_type": "stream",
     "text": [
      "cuda\n"
     ]
    },
    {
     "data": {
      "text/plain": [
       "Color_model(\n",
       "  (features): Sequential(\n",
       "    (0): Conv2d(1, 64, kernel_size=(3, 3), stride=(1, 1), padding=(1, 1))\n",
       "    (1): ReLU()\n",
       "    (2): Conv2d(64, 64, kernel_size=(3, 3), stride=(2, 2), padding=(1, 1))\n",
       "    (3): ReLU()\n",
       "    (4): BatchNorm2d(64, eps=1e-05, momentum=0.1, affine=True, track_running_stats=True)\n",
       "    (5): Conv2d(64, 128, kernel_size=(3, 3), stride=(1, 1), padding=(1, 1))\n",
       "    (6): ReLU()\n",
       "    (7): Conv2d(128, 128, kernel_size=(3, 3), stride=(2, 2), padding=(1, 1))\n",
       "    (8): ReLU()\n",
       "    (9): BatchNorm2d(128, eps=1e-05, momentum=0.1, affine=True, track_running_stats=True)\n",
       "    (10): Conv2d(128, 256, kernel_size=(3, 3), stride=(1, 1), padding=(1, 1))\n",
       "    (11): ReLU()\n",
       "    (12): Conv2d(256, 256, kernel_size=(3, 3), stride=(1, 1), padding=(1, 1))\n",
       "    (13): ReLU()\n",
       "    (14): Conv2d(256, 256, kernel_size=(3, 3), stride=(2, 2), padding=(1, 1))\n",
       "    (15): ReLU()\n",
       "    (16): BatchNorm2d(256, eps=1e-05, momentum=0.1, affine=True, track_running_stats=True)\n",
       "    (17): Conv2d(256, 512, kernel_size=(3, 3), stride=(1, 1), padding=(1, 1))\n",
       "    (18): ReLU()\n",
       "    (19): BatchNorm2d(512, eps=1e-05, momentum=0.1, affine=True, track_running_stats=True)\n",
       "    (20): Conv2d(512, 512, kernel_size=(3, 3), stride=(1, 1), padding=(2, 2), dilation=(2, 2))\n",
       "    (21): ReLU()\n",
       "    (22): BatchNorm2d(512, eps=1e-05, momentum=0.1, affine=True, track_running_stats=True)\n",
       "    (23): ReLU()\n",
       "    (24): Conv2d(512, 512, kernel_size=(3, 3), stride=(1, 1), padding=(2, 2), dilation=(2, 2))\n",
       "    (25): ReLU()\n",
       "    (26): BatchNorm2d(512, eps=1e-05, momentum=0.1, affine=True, track_running_stats=True)\n",
       "    (27): Conv2d(512, 512, kernel_size=(3, 3), stride=(1, 1), padding=(1, 1))\n",
       "    (28): ReLU()\n",
       "    (29): BatchNorm2d(512, eps=1e-05, momentum=0.1, affine=True, track_running_stats=True)\n",
       "    (30): ConvTranspose2d(512, 256, kernel_size=(4, 4), stride=(2, 2), padding=(1, 1))\n",
       "    (31): ReLU()\n",
       "    (32): Upsample(scale_factor=2.0, mode=bilinear)\n",
       "    (33): ConvTranspose2d(256, 256, kernel_size=(4, 4), stride=(2, 2), padding=(1, 1))\n",
       "    (34): ReLU()\n",
       "    (35): Conv2d(256, 256, kernel_size=(3, 3), stride=(1, 1), padding=(1, 1))\n",
       "    (36): ReLU()\n",
       "    (37): Conv2d(256, 313, kernel_size=(1, 1), stride=(1, 1))\n",
       "  )\n",
       ")"
      ]
     },
     "execution_count": 30,
     "metadata": {},
     "output_type": "execute_result"
    }
   ],
   "source": [
    "# RUN ONLY IF YOU WANT TO LOAD AN EXISTING MODEL FROM SOME pth FILE\n",
    "\n",
    "path_to_state_dict = \"./color_net_form_s56_e50_W.pth\"\n",
    "\n",
    "device = torch.device('cuda' if torch.cuda.is_available() else 'cpu')\n",
    "print(device)\n",
    "\n",
    "model = Color_model().to(device)\n",
    "model.load_state_dict(torch.load(path_to_state_dict))\n",
    "\n",
    "model.eval()"
   ]
  },
  {
   "cell_type": "code",
   "execution_count": 31,
   "metadata": {
    "colab": {
     "base_uri": "https://localhost:8080/",
     "height": 583
    },
    "id": "ipJOsIbK-Lt8",
    "outputId": "7883f2ec-89ae-4e73-d453-845dde33446e"
   },
   "outputs": [
    {
     "name": "stdout",
     "output_type": "stream",
     "text": [
      "torch.Size([5, 1, 56, 56])\n",
      "torch.Size([5, 313, 56, 56])\n"
     ]
    },
    {
     "data": {
      "image/png": "[encoded data removed]",
      "text/plain": [
       "<Figure size 864x648 with 3 Axes>"
      ]
     },
     "metadata": {
      "needs_background": "light"
     },
     "output_type": "display_data"
    }
   ],
   "source": [
    "import numpy as np\n",
    "from skimage import color, io\n",
    "\n",
    "import matplotlib.pyplot as plt\n",
    "plt.ion()\n",
    "\n",
    "import torchvision.utils\n",
    "file_path = DISCRETE_AB_PATH\n",
    "device = torch.device(\"cuda:0\" if use_gpu and torch.cuda.is_available() else \"cpu\")\n",
    "\n",
    "model.eval()\n",
    "\n",
    "with torch.no_grad():\n",
    "\n",
    "    \n",
    "    image_inds = np.random.choice(len(test_dataset), 5, replace=False)\n",
    "    \n",
    "    img_gray = torch.stack([test_dataset[i][0] for i in image_inds]) \n",
    "    print(img_gray.shape)\n",
    "    img_ab = torch.stack([test_dataset[i][1] for i in image_inds]) \n",
    "    print(img_ab.shape)\n",
    "    img_gray = img_gray.float().to(device)\n",
    "    img_ab = img_ab.float().to(device)\n",
    "\n",
    "    predicted_ab_batch = model(img_gray)\n",
    "    \n",
    "    #DECODING output of Model:\n",
    "    predicted_ab_batch = decoding(predicted_ab_batch.cpu(), file_path = file_path )\n",
    "    predicted_lab_batch = torch.cat([img_gray.cpu(), predicted_ab_batch], dim=1)\n",
    "\n",
    "    #DECODING the ground truth:\n",
    "    img_ab_ = decoding(img_ab.cpu(), file_path = file_path )\n",
    "    lab_batch = torch.cat([img_gray.cpu(), img_ab_], dim=1)\n",
    "\n",
    "    predicted_lab_batch = predicted_lab_batch.cpu()\n",
    "    lab_batch = lab_batch.cpu()\n",
    "    \n",
    "    \n",
    "    img_ab_zeros =  np.zeros((lab_batch.size(0), 2, size,size))\n",
    "    img_ab_zeros = torch.from_numpy(img_ab_zeros)\n",
    "    img_gray_abzeros = torch.cat([img_gray.cpu(), img_ab_zeros], dim=1)\n",
    "    img_gray_abzeros = img_gray_abzeros.cpu()\n",
    "    \n",
    "    \n",
    "    \n",
    "    # convert to rgb\n",
    "    rgb_batch = []\n",
    "    predicted_rgb_batch = []\n",
    "    img_gray_rgb_batch = []\n",
    "    for i in range(lab_batch.size(0)):\n",
    "        rgb_img = color.lab2rgb(np.transpose(lab_batch[i, :, :, :].numpy().astype('float64'), (1, 2, 0)))\n",
    "        rgb_batch.append(torch.FloatTensor(np.transpose(rgb_img, (2, 0, 1))))\n",
    "        predicted_rgb_img = color.lab2rgb(np.transpose(predicted_lab_batch[i, :, :, :].numpy().astype('float64'), (1, 2, 0)))\n",
    "        predicted_rgb_batch.append(torch.FloatTensor(np.transpose(predicted_rgb_img, (2, 0, 1))))\n",
    "        \n",
    "        img_gray_rgb = color.lab2rgb(np.transpose(img_gray_abzeros[i, :, :, :].numpy().astype('float64'), (1, 2, 0)))\n",
    "        img_gray_rgb_batch.append(torch.FloatTensor(np.transpose(img_gray_rgb, (2, 0, 1))))\n",
    "        \n",
    "\n",
    "    # plot images\n",
    "    fig, ax = plt.subplots(figsize=(12, 9), nrows=3, ncols=1)\n",
    "    ax[0].imshow(np.transpose(torchvision.utils.make_grid(torch.stack(img_gray_rgb_batch), nrow=5).numpy(), (1, 2, 0)))\n",
    "    ax[0].title.set_text('original gray')\n",
    "    ax[1].imshow(np.transpose(torchvision.utils.make_grid(torch.stack(predicted_rgb_batch), nrow=5).numpy(), (1, 2, 0)))\n",
    "    ax[1].title.set_text('re-colored')\n",
    "    ax[2].imshow(np.transpose(torchvision.utils.make_grid(torch.stack(rgb_batch), nrow=5).numpy(), (1, 2, 0)))\n",
    "    ax[2].title.set_text('original')\n",
    "    \n",
    "    plt.show()"
   ]
  },
  {
   "cell_type": "code",
   "execution_count": null,
   "metadata": {},
   "outputs": [],
   "source": []
  }
 ],
 "metadata": {
  "accelerator": "GPU",
  "colab": {
   "collapsed_sections": [],
   "name": "Classi_Final.ipynb",
   "provenance": [],
   "toc_visible": true
  },
  "kernelspec": {
   "display_name": "Python 3",
   "language": "python",
   "name": "python3"
  },
  "language_info": {
   "codemirror_mode": {
    "name": "ipython",
    "version": 3
   },
   "file_extension": ".py",
   "mimetype": "text/x-python",
   "name": "python",
   "nbconvert_exporter": "python",
   "pygments_lexer": "ipython3",
   "version": "3.8.8"
  }
 },
 "nbformat": 4,
 "nbformat_minor": 4
}
